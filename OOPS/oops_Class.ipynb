{
 "cells": [
  {
   "cell_type": "markdown",
   "metadata": {},
   "source": [
    "#data:\n",
    "name ,rollno,percentage\n",
    "\n",
    "\n",
    "#methods:\n",
    "study,play()"
   ]
  },
  {
   "cell_type": "code",
   "execution_count": 9,
   "metadata": {},
   "outputs": [],
   "source": [
    "def hello(arg1):\n",
    "    print(\"hi\")"
   ]
  },
  {
   "cell_type": "code",
   "execution_count": 10,
   "metadata": {},
   "outputs": [
    {
     "name": "stdout",
     "output_type": "stream",
     "text": [
      "hi\n"
     ]
    }
   ],
   "source": [
    "hello(\"Nakul\")"
   ]
  },
  {
   "cell_type": "code",
   "execution_count": 19,
   "metadata": {},
   "outputs": [
    {
     "data": {
      "text/plain": [
       "('Nakul', 1)"
      ]
     },
     "execution_count": 19,
     "metadata": {},
     "output_type": "execute_result"
    }
   ],
   "source": [
    "class Student:\n",
    "    def __init__(self):  #constructor:\n",
    "        self.name = 'Nakul'\n",
    "        self.roll_no =1\n",
    "\n",
    "s1 = Student()\n",
    "s1.name,s1.roll_no\n",
    "        \n",
    "\n",
    "\n",
    "\n",
    "\n",
    "\n"
   ]
  },
  {
   "cell_type": "code",
   "execution_count": 32,
   "metadata": {},
   "outputs": [
    {
     "name": "stdout",
     "output_type": "stream",
     "text": [
      "NAkul 1 30\n",
      "hello 88 0\n",
      "playing\n"
     ]
    }
   ],
   "source": [
    "class Student:\n",
    "    def __init__(self,name,rollnumber,marks):  #constructor:\n",
    "        self.name = name\n",
    "        self.roll_no = rollnumber\n",
    "        self.marks = marks\n",
    "\n",
    "\n",
    "\n",
    "    def study(self):\n",
    "        print(\"studying\")\n",
    "\n",
    "    def play(self):\n",
    "        print(\"playing\")\n",
    "\n",
    "s1 = Student('NAkul',1,30)\n",
    "s2= Student('hello',88,0)\n",
    "print(s1.name,s1.roll_no,s1.marks)\n",
    "print(s2.name,s2.roll_no,s2.marks)\n",
    "\n",
    "\n",
    "\n",
    "s1.play()\n",
    "\n",
    "\n",
    "\n",
    "        \n",
    "\n",
    "\n",
    "\n",
    "\n",
    "\n"
   ]
  },
  {
   "cell_type": "code",
   "execution_count": 78,
   "metadata": {},
   "outputs": [],
   "source": [
    "#Complex Number Class:\n",
    "\n",
    "class ComplexNumber:\n",
    "    def __init__(self,real=0.0,imag=0.0):\n",
    "        self.imag = imag\n",
    "        self.real = real \n",
    "\n",
    "\n",
    "    def __str__(self): # return readable and descriptive represntation of object\n",
    "        return f\"{self.imag},{self.real} I am learning\"\n",
    "\n",
    "\n",
    "\n",
    "    def __add__(arg1,arg2):\n",
    "        resultReal =0\n",
    "        resultImag =0\n",
    "\n",
    "        resultReal = arg1.real+arg2.real\n",
    "        resultImag = arg1.imag + arg2.imag\n",
    "\n",
    "        ans = ComplexNumber(resultReal,resultImag)\n",
    "\n",
    "        return ans\n",
    "\n",
    "    def __sub__(self,other):\n",
    "        resultReal =0\n",
    "        resultImag =0\n",
    "\n",
    "        resultReal = self.real-other.real\n",
    "        resultImag = self.imag - other.imag\n",
    "\n",
    "        ans = ComplexNumber(resultReal,resultImag)\n",
    "\n",
    "        return ans\n",
    "\n",
    "    def Conjugate(self):\n",
    "        imag= self.imag * -1\n",
    "        print(f\"({self.real}+{imag})\")\n",
    "\n",
    "        "
   ]
  },
  {
   "cell_type": "code",
   "execution_count": 79,
   "metadata": {},
   "outputs": [],
   "source": [
    "cn1 = ComplexNumber(1,2)\n",
    "cn2 = ComplexNumber(3,4)"
   ]
  },
  {
   "cell_type": "code",
   "execution_count": 80,
   "metadata": {},
   "outputs": [
    {
     "name": "stdout",
     "output_type": "stream",
     "text": [
      "6,4 I am learning\n",
      "-2,-2 I am learning\n"
     ]
    }
   ],
   "source": [
    "print(cn1+cn2)\n",
    "print(cn1-cn2)"
   ]
  },
  {
   "cell_type": "code",
   "execution_count": 51,
   "metadata": {},
   "outputs": [
    {
     "name": "stdout",
     "output_type": "stream",
     "text": [
      "(3+-5)\n"
     ]
    }
   ],
   "source": [
    "cn = ComplexNumber(3,5)\n",
    "cn.real,cn.imag\n",
    "\n",
    "\n",
    "cn.Conjugate()"
   ]
  },
  {
   "cell_type": "code",
   "execution_count": 49,
   "metadata": {},
   "outputs": [
    {
     "name": "stdout",
     "output_type": "stream",
     "text": [
      "5,3 I am learning\n"
     ]
    }
   ],
   "source": [
    "print(cn)"
   ]
  },
  {
   "cell_type": "code",
   "execution_count": null,
   "metadata": {},
   "outputs": [],
   "source": [
    "class Student:\n",
    "    numberOfStudents = 0\n",
    "    schhol= \"Maps\"\n",
    "\n",
    "    def __init__(self,name,rollnumber,marks):  #constructor:\n",
    "        self.__name = name\n",
    "        self.roll_no = rollnumber\n",
    "        self.__marks = marks\n",
    "        self.numberOfStudents = Student.numberOfStudents+1\n",
    "        Student.numberOfStudents=Student.numberOfStudents+1\n",
    "\n",
    "\n",
    "    def study(self):\n",
    "        print(\"studying\")\n",
    "\n",
    "    def play(self):\n",
    "        print(\"playing\")\n",
    "\n",
    "s1 = Student('NAkul',1,30)\n",
    "s2= Student('hello',88,0)\n",
    "\n",
    "\n",
    "\n",
    "\n",
    "        \n",
    "\n",
    "\n",
    "\n",
    "\n",
    "\n"
   ]
  },
  {
   "cell_type": "code",
   "execution_count": 83,
   "metadata": {},
   "outputs": [
    {
     "data": {
      "text/plain": [
       "'Maps'"
      ]
     },
     "execution_count": 83,
     "metadata": {},
     "output_type": "execute_result"
    }
   ],
   "source": [
    "Student.schhol"
   ]
  },
  {
   "cell_type": "code",
   "execution_count": 84,
   "metadata": {},
   "outputs": [
    {
     "data": {
      "text/plain": [
       "30"
      ]
     },
     "execution_count": 84,
     "metadata": {},
     "output_type": "execute_result"
    }
   ],
   "source": [
    "s1.marks"
   ]
  },
  {
   "cell_type": "code",
   "execution_count": 85,
   "metadata": {},
   "outputs": [],
   "source": [
    "s1.marks =1"
   ]
  },
  {
   "cell_type": "code",
   "execution_count": 86,
   "metadata": {},
   "outputs": [
    {
     "data": {
      "text/plain": [
       "1"
      ]
     },
     "execution_count": 86,
     "metadata": {},
     "output_type": "execute_result"
    }
   ],
   "source": [
    "s1.marks"
   ]
  },
  {
   "cell_type": "markdown",
   "metadata": {},
   "source": [
    "this is a big problem as we can easily change the values"
   ]
  },
  {
   "cell_type": "markdown",
   "metadata": {},
   "source": [
    "Acess modifiers - we can choose to provide acess to our variable by making them public or private \n",
    "normally we make all the data members private\n"
   ]
  },
  {
   "cell_type": "markdown",
   "metadata": {},
   "source": [
    "AS in python nothing is truly private"
   ]
  },
  {
   "cell_type": "code",
   "execution_count": 91,
   "metadata": {},
   "outputs": [
    {
     "data": {
      "text/plain": [
       "30"
      ]
     },
     "execution_count": 91,
     "metadata": {},
     "output_type": "execute_result"
    }
   ],
   "source": [
    "s1._Student__marks"
   ]
  },
  {
   "cell_type": "code",
   "execution_count": 119,
   "metadata": {},
   "outputs": [],
   "source": [
    "class Students:\n",
    "    __numberOfStudents = 0  #static variable\n",
    "    __schoolName = \"MAPS\"  # static variable \n",
    "\n",
    "    def __init__(self,name,rollNumber,marks):\n",
    "        self.name = name\n",
    "        self.rollNumber = rollNumber\n",
    "        self.__marks = marks\n",
    "        self.__numberOfStudents = Students.__numberOfStudents\n",
    "        Students.__numberOfStudents = Students.__numberOfStudents+1\n",
    "    #getter\n",
    "    def getMarks(self):\n",
    "        return self.__marks\n",
    "    #setter\n",
    "    def setMarks(self,newMarks):\n",
    "        self.__marks = newMarks\n",
    "\n",
    "\n",
    "\n",
    "    @staticmethod\n",
    "    def getSchoolName():\n",
    "        return Students.__schoolName\n"
   ]
  },
  {
   "cell_type": "code",
   "execution_count": 114,
   "metadata": {},
   "outputs": [],
   "source": [
    "s1 = Students('Nakul',85,36)"
   ]
  },
  {
   "cell_type": "code",
   "execution_count": 105,
   "metadata": {},
   "outputs": [
    {
     "data": {
      "text/plain": [
       "36"
      ]
     },
     "execution_count": 105,
     "metadata": {},
     "output_type": "execute_result"
    }
   ],
   "source": [
    "s1.getMarks()"
   ]
  },
  {
   "cell_type": "code",
   "execution_count": 106,
   "metadata": {},
   "outputs": [],
   "source": [
    "s1.setMarks(90)"
   ]
  },
  {
   "cell_type": "code",
   "execution_count": 115,
   "metadata": {},
   "outputs": [
    {
     "data": {
      "text/plain": [
       "36"
      ]
     },
     "execution_count": 115,
     "metadata": {},
     "output_type": "execute_result"
    }
   ],
   "source": [
    "s1.getMarks()"
   ]
  },
  {
   "cell_type": "code",
   "execution_count": 120,
   "metadata": {},
   "outputs": [
    {
     "data": {
      "text/plain": [
       "'MAPS'"
      ]
     },
     "execution_count": 120,
     "metadata": {},
     "output_type": "execute_result"
    }
   ],
   "source": [
    "Students.getSchoolName()"
   ]
  },
  {
   "cell_type": "code",
   "execution_count": 184,
   "metadata": {},
   "outputs": [],
   "source": [
    "#inheritance \n",
    "\n",
    "class User:\n",
    "    def __init__(self,name,id):\n",
    "        self.name = name\n",
    "        self.id = id\n",
    "    def login(self):\n",
    "        print(\"logged-in\")\n",
    "    def _logout(self):\n",
    "        print('logged-out')\n",
    "\n"
   ]
  },
  {
   "cell_type": "code",
   "execution_count": null,
   "metadata": {},
   "outputs": [],
   "source": [
    "class Student(User):\n",
    "    def play(self):\n",
    "        return self._logout()  # this is the correct way as it doesnt exposed the method directly\n",
    "        "
   ]
  },
  {
   "cell_type": "code",
   "execution_count": 202,
   "metadata": {},
   "outputs": [],
   "source": [
    "s1 = Student('Nakul',1234)"
   ]
  },
  {
   "cell_type": "code",
   "execution_count": 188,
   "metadata": {},
   "outputs": [
    {
     "name": "stdout",
     "output_type": "stream",
     "text": [
      "logged-in\n"
     ]
    }
   ],
   "source": [
    "s1.login()\n",
    "\n"
   ]
  },
  {
   "cell_type": "code",
   "execution_count": 206,
   "metadata": {},
   "outputs": [],
   "source": [
    "u1 = User('Ncik',123)"
   ]
  },
  {
   "cell_type": "code",
   "execution_count": null,
   "metadata": {},
   "outputs": [
    {
     "ename": "AttributeError",
     "evalue": "'User' object has no attribute 'play'",
     "output_type": "error",
     "traceback": [
      "\u001b[1;31m---------------------------------------------------------------------------\u001b[0m",
      "\u001b[1;31mAttributeError\u001b[0m                            Traceback (most recent call last)",
      "Cell \u001b[1;32mIn[156], line 1\u001b[0m\n\u001b[1;32m----> 1\u001b[0m \u001b[43mu1\u001b[49m\u001b[38;5;241;43m.\u001b[39;49m\u001b[43mplay\u001b[49m()\n",
      "\u001b[1;31mAttributeError\u001b[0m: 'User' object has no attribute 'play'"
     ]
    }
   ],
   "source": [
    "u1.play() # because parent cant inherit from child class"
   ]
  },
  {
   "cell_type": "code",
   "execution_count": null,
   "metadata": {},
   "outputs": [
    {
     "name": "stdout",
     "output_type": "stream",
     "text": [
      "logged-out\n"
     ]
    }
   ],
   "source": [
    "s1.play()   # this is the correct way as it doesnt exposed the method"
   ]
  },
  {
   "cell_type": "code",
   "execution_count": null,
   "metadata": {},
   "outputs": [],
   "source": []
  }
 ],
 "metadata": {
  "kernelspec": {
   "display_name": "Python 3",
   "language": "python",
   "name": "python3"
  },
  "language_info": {
   "codemirror_mode": {
    "name": "ipython",
    "version": 3
   },
   "file_extension": ".py",
   "mimetype": "text/x-python",
   "name": "python",
   "nbconvert_exporter": "python",
   "pygments_lexer": "ipython3",
   "version": "3.13.0"
  }
 },
 "nbformat": 4,
 "nbformat_minor": 2
}
