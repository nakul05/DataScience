{
 "cells": [
  {
   "cell_type": "code",
   "execution_count": 92,
   "metadata": {},
   "outputs": [
    {
     "name": "stdout",
     "output_type": "stream",
     "text": [
      "Name: nakul\n",
      "city None\n"
     ]
    }
   ],
   "source": [
    "data = {\n",
    "    \"age\": 25,\n",
    "    \"name\":'nakul',\n",
    "    \"address\": {\n",
    "        # \"city\": \"New York\",\n",
    "        \"zip\": \"10001\"\n",
    "    }\n",
    "}\n",
    "\n",
    "name = data.get(\"name\",)  # Will return None since \"name\" key doesn't exist\n",
    "\n",
    "city = data.get(\"address\",{}).get(\"city\",)\n",
    "print(\"Name:\", name)  # Output: Name: None\n",
    "print(\"city\",city)\n"
   ]
  },
  {
   "cell_type": "code",
   "execution_count": 91,
   "metadata": {},
   "outputs": [
    {
     "name": "stdout",
     "output_type": "stream",
     "text": [
      "dict_keys(['name', 'operational_hours', 'coffee_types'])\n"
     ]
    }
   ],
   "source": [
    "data = {\n",
    "  \"industry\": {\n",
    "    \"name\": \"Coffee Shop\",\n",
    "    \"operational_hours\": 12,\n",
    "    \"coffee_types\": [\n",
    "      {\"name\": \"Espresso\", \"probability\": 0.5},\n",
    "      {\"name\": \"Latte\"},\n",
    "      {\"name\": \"Cappuccino\", \"probability\": 0.3}\n",
    "    ]\n",
    "  }\n",
    "}\n",
    "\n",
    "# Get all keys under the 'industry' key dynamically\n",
    "industry_keys = data.get(\"industry\", {}).keys()\n",
    "\n",
    "# Print the keys\n",
    "print(industry_keys)\n",
    "\n"
   ]
  }
 ],
 "metadata": {
  "kernelspec": {
   "display_name": "Python 3",
   "language": "python",
   "name": "python3"
  },
  "language_info": {
   "codemirror_mode": {
    "name": "ipython",
    "version": 3
   },
   "file_extension": ".py",
   "mimetype": "text/x-python",
   "name": "python",
   "nbconvert_exporter": "python",
   "pygments_lexer": "ipython3",
   "version": "3.13.0"
  }
 },
 "nbformat": 4,
 "nbformat_minor": 2
}
